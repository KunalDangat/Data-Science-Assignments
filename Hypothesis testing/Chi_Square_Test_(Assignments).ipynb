{
  "nbformat": 4,
  "nbformat_minor": 0,
  "metadata": {
    "colab": {
      "provenance": []
    },
    "kernelspec": {
      "name": "python3",
      "display_name": "Python 3"
    },
    "language_info": {
      "name": "python"
    }
  },
  "cells": [
    {
      "cell_type": "markdown",
      "source": [
        "## **1. State the Hypotheses:**\n",
        "Null Hypothesis (H₀): There is no association between the type of smart home device and customer satisfaction level.\n",
        "\n",
        "Alternative Hypothesis (H₁): There is an association between the type of smart home device and customer satisfaction level."
      ],
      "metadata": {
        "id": "ABHAswq2S24X"
      }
    },
    {
      "cell_type": "markdown",
      "source": [
        "## **2. Compute the Chi-Square Statistic:**"
      ],
      "metadata": {
        "id": "78YPEyi4TFOy"
      }
    },
    {
      "cell_type": "code",
      "source": [
        "from scipy import stats\n",
        "import pandas as pd\n",
        "import numpy as np\n",
        "\n",
        "observed = {\n",
        "        'Satisfaction': ['Very Satisfied', 'Satisfied', 'Neutral', 'Unsatisfied', 'Very Unsatisfied'],\n",
        "        'Smart Thermostat': [50, 80, 60, 30, 20],\n",
        "        'Smart Light': [70, 100, 90, 50, 50]}\n",
        "\n",
        "df = pd.DataFrame(observed)\n",
        "\n",
        "df.set_index('Satisfaction', inplace=True)\n",
        "\n",
        "print(\"Given Data: \\n\")\n",
        "print(df)\n",
        "\n",
        "row_total = df.sum(axis=1)\n",
        "col_total = df.sum(axis=0)\n",
        "grand_total = df.values.sum()\n",
        "\n",
        "print(\"\\nRow Total :\")\n",
        "print(row_total)\n",
        "print(\"\\nColumn Total :\")\n",
        "print(col_total)\n",
        "print(f\"\\nGrand Total : {observed}\")\n",
        "\n",
        "expected = np.outer(row_total, col_total) / grand_total\n",
        "\n",
        "expected_df = pd.DataFrame(expected,\n",
        "                           columns = ['Smart Thermostat', 'Smart Light'],\n",
        "                           index=df.index)\n",
        "\n",
        "print(\"\\nExpected Frequencies :\")\n",
        "print(expected_df)\n",
        "\n",
        "chi_square_statistic, p_value, dof, expected = stats.chi2_contingency(df.values)\n",
        "print(f\"\\nChi-Square Statistic: {chi_square_statistic}\")\n",
        "print(f\"Degrees of Freedom: {dof}\")\n"
      ],
      "metadata": {
        "colab": {
          "base_uri": "https://localhost:8080/"
        },
        "id": "6lFNzGwHpALP",
        "outputId": "109c4ccc-4833-4b13-c63c-addda65d0ac7",
        "collapsed": true
      },
      "execution_count": 21,
      "outputs": [
        {
          "output_type": "stream",
          "name": "stdout",
          "text": [
            "Given Data: \n",
            "\n",
            "                  Smart Thermostat  Smart Light\n",
            "Satisfaction                                   \n",
            "Very Satisfied                  50           70\n",
            "Satisfied                       80          100\n",
            "Neutral                         60           90\n",
            "Unsatisfied                     30           50\n",
            "Very Unsatisfied                20           50\n",
            "\n",
            "Row Total :\n",
            "Satisfaction\n",
            "Very Satisfied      120\n",
            "Satisfied           180\n",
            "Neutral             150\n",
            "Unsatisfied          80\n",
            "Very Unsatisfied     70\n",
            "dtype: int64\n",
            "\n",
            "Column Total :\n",
            "Smart Thermostat    240\n",
            "Smart Light         360\n",
            "dtype: int64\n",
            "\n",
            "Grand Total : {'Satisfaction': ['Very Satisfied', 'Satisfied', 'Neutral', 'Unsatisfied', 'Very Unsatisfied'], 'Smart Thermostat': [50, 80, 60, 30, 20], 'Smart Light': [70, 100, 90, 50, 50]}\n",
            "\n",
            "Expected Frequencies :\n",
            "                  Smart Thermostat  Smart Light\n",
            "Satisfaction                                   \n",
            "Very Satisfied                48.0         72.0\n",
            "Satisfied                     72.0        108.0\n",
            "Neutral                       60.0         90.0\n",
            "Unsatisfied                   32.0         48.0\n",
            "Very Unsatisfied              28.0         42.0\n",
            "\n",
            "Chi-Square Statistic: 5.638227513227513\n",
            "Degrees of Freedom: 4\n"
          ]
        }
      ]
    },
    {
      "cell_type": "markdown",
      "source": [
        "## **Step 3: Determine the Critical Value**"
      ],
      "metadata": {
        "id": "rISnVAYwq7jG"
      }
    },
    {
      "cell_type": "code",
      "source": [
        "alpha = 0.05\n",
        "critical_value = stats.chi2.ppf(1 - alpha, dof)\n",
        "\n",
        "print(f\"Critical Value at alpha={alpha}: {critical_value}\")"
      ],
      "metadata": {
        "colab": {
          "base_uri": "https://localhost:8080/"
        },
        "id": "wjBn47_srFZQ",
        "outputId": "141c943f-04b8-4c5e-afc5-ce36b1c4af54"
      },
      "execution_count": 22,
      "outputs": [
        {
          "output_type": "stream",
          "name": "stdout",
          "text": [
            "Critical Value at alpha=0.05: 9.487729036781154\n"
          ]
        }
      ]
    },
    {
      "cell_type": "markdown",
      "source": [
        "## **Step 4: Make a Decision**"
      ],
      "metadata": {
        "id": "xlduIfWGrJ09"
      }
    },
    {
      "cell_type": "code",
      "source": [
        "reject_null\n",
        "\n",
        "if chi_square_statistic > critical_value:\n",
        "    print(\"Reject the null hypothesis. There is a significant association between device type and customer satisfaction.\")\n",
        "else:\n",
        "    print(\"Fail to reject the null hypothesis. There is no significant association between device type and customer satisfaction.\")"
      ],
      "metadata": {
        "colab": {
          "base_uri": "https://localhost:8080/"
        },
        "id": "5eXoC8tKrMQ_",
        "outputId": "6e3ed507-19cb-4e5b-8524-8215567ceb09"
      },
      "execution_count": 23,
      "outputs": [
        {
          "output_type": "stream",
          "name": "stdout",
          "text": [
            "Fail to reject the null hypothesis. There is no significant association between device type and customer satisfaction.\n"
          ]
        }
      ]
    },
    {
      "cell_type": "markdown",
      "source": [
        "## **Report**\n",
        "\n",
        "Assignment Tasks:\n",
        "1. State the Hypotheses:\n",
        "   - Null Hypothesis (H0): There is no significant association between the type of device purchased and the customer's satisfaction level.\n",
        "   - Alternative Hypothesis (H1): There is a significant association between the type of device purchased and the customer's satisfaction level.\n",
        "\n",
        "2. Compute the Chi-Square Statistic:\n",
        "   - Chi-Square Statistic: **5.6382**\n",
        "   - p-value: **0.2278**\n",
        "\n",
        "3. Determine the Critical Value:\n",
        "   - Degrees of Freedom: **4**\n",
        "   - Critical Value (at alpha = 0.05) : **9.4877**\n",
        "\n",
        "4. Make a Decision:\n",
        "   - Conclusion: Fail to reject the null hypothesis. There is no significant association between device type and customer satisfaction.\n",
        "\n",
        "Based on the calculated Chi-Square statistic and the critical value, we have conclusion :\n",
        "\n",
        "**The type of device, whether it's a Smart Thermostat or Smart Light, does not significantly affect customer satisfaction.**"
      ],
      "metadata": {
        "id": "3mfsiBKCwA1P"
      }
    }
  ]
}