{
  "nbformat": 4,
  "nbformat_minor": 0,
  "metadata": {
    "colab": {
      "provenance": []
    },
    "kernelspec": {
      "name": "python3",
      "display_name": "Python 3"
    },
    "language_info": {
      "name": "python"
    }
  },
  "cells": [
    {
      "cell_type": "markdown",
      "source": [
        "## **1. State the Hypotheses statement:**\n",
        "\n",
        "**Null Hypothesis (H0)**: The weekly operating cost model is accurate.\n",
        "𝐻0 : 𝜇 = $1,000 + $5𝑋\n",
        "\n",
        "**Alternative Hypothesis (H1)**: The weekly operating costs are higher than the model suggests.\n",
        "𝐻1 : 𝜇 > $1,000 + $5 𝑋"
      ],
      "metadata": {
        "id": "cQDMMmsvbNaz"
      }
    },
    {
      "cell_type": "markdown",
      "source": [
        "## **2. Calculate the Test Statistic:**"
      ],
      "metadata": {
        "id": "IGJX4yHI-WZK"
      }
    },
    {
      "cell_type": "code",
      "execution_count": 9,
      "metadata": {
        "id": "Lbkr0XZxWCUe",
        "colab": {
          "base_uri": "https://localhost:8080/"
        },
        "outputId": "47efafba-e001-4f0b-fab7-bcce466a756b"
      },
      "outputs": [
        {
          "output_type": "stream",
          "name": "stdout",
          "text": [
            "Z Test Statistics : -1082.0\n"
          ]
        },
        {
          "output_type": "execute_result",
          "data": {
            "text/plain": [
              "-1082.0"
            ]
          },
          "metadata": {},
          "execution_count": 9
        }
      ],
      "source": [
        "import math\n",
        "from scipy import stats\n",
        "\n",
        "sample_mean = 3050\n",
        "theoretical_mean = 100 + 5 * 6000\n",
        "std_dev = 5 * 25\n",
        "sample_size = 25\n",
        "\n",
        "z_test_statistic = (sample_mean - theoretical_mean) / (std_dev / math.sqrt(sample_size))\n",
        "print(\"Z Test Statistics :\",z_test_statistic)"
      ]
    },
    {
      "cell_type": "markdown",
      "source": [
        "## **3. Determine the Critical Value:**"
      ],
      "metadata": {
        "id": "9BEMnTAJ_zl8"
      }
    },
    {
      "cell_type": "code",
      "source": [
        "alpha = 0.05\n",
        "critical_value = stats.norm.ppf(1 - alpha)\n",
        "print(\"Critical Value :\", critical_value)"
      ],
      "metadata": {
        "colab": {
          "base_uri": "https://localhost:8080/"
        },
        "id": "4nmts7rA-ToE",
        "outputId": "232abf21-6e7e-4312-97cf-74b50de557c3"
      },
      "execution_count": 12,
      "outputs": [
        {
          "output_type": "stream",
          "name": "stdout",
          "text": [
            "Critical Value : 1.6448536269514722\n"
          ]
        }
      ]
    },
    {
      "cell_type": "markdown",
      "source": [
        "## **4. Make a Decision:**"
      ],
      "metadata": {
        "id": "ebaBTGGgAM-3"
      }
    },
    {
      "cell_type": "code",
      "source": [
        "if z_test_statistic > critical_value :\n",
        "  decision = \"Reject The Null Hypothesis\"\n",
        "else :\n",
        "  decision = \"Do Not Reject The Null Hypothesis\"\n",
        "\n",
        "print(\"Decision :\",decision)"
      ],
      "metadata": {
        "colab": {
          "base_uri": "https://localhost:8080/"
        },
        "id": "PBz-cXwrABMB",
        "outputId": "774cc0ba-c6ab-4e14-b5f4-4599b434e4a3"
      },
      "execution_count": 19,
      "outputs": [
        {
          "output_type": "stream",
          "name": "stdout",
          "text": [
            "Decision : Do Not Reject The Null Hypothesis\n"
          ]
        }
      ]
    },
    {
      "cell_type": "markdown",
      "source": [
        "## **5. Conclusion:**\n",
        "\n",
        "The hypothesis testing conducted does not provide strong evidence that the weekly operating costs are higher than what the model predicts. The restaurant owners should continue using the existing cost model while keeping an eye on actual costs and looking into other factors that might affect their expenses."
      ],
      "metadata": {
        "id": "HpPTIzAMBUbi"
      }
    }
  ]
}