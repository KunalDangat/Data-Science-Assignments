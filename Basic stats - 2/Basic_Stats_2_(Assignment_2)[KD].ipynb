{
  "nbformat": 4,
  "nbformat_minor": 0,
  "metadata": {
    "colab": {
      "provenance": []
    },
    "kernelspec": {
      "name": "python3",
      "display_name": "Python 3"
    },
    "language_info": {
      "name": "python"
    }
  },
  "cells": [
    {
      "cell_type": "markdown",
      "source": [
        "### **a. Build 99% Confidence Interval Using Sample Standard Deviation**"
      ],
      "metadata": {
        "id": "_9JiMNahBG6y"
      }
    },
    {
      "cell_type": "code",
      "source": [
        "import numpy as np\n",
        "from scipy import stats\n",
        "\n",
        "sample = np.array([1.13, 1.55, 1.43, 0.92, 1.25, 1.36, 1.32, 0.85, 1.07, 1.48, 1.20, 1.33, 1.18, 1.22, 1.29])"
      ],
      "metadata": {
        "id": "HVUTiMHG_-FI"
      },
      "execution_count": 1,
      "outputs": []
    },
    {
      "cell_type": "code",
      "source": [
        "sample_mean = np.mean(sample)\n",
        "sample_std = np.std(sample, ddof=1)\n",
        "sample_size = len(sample)\n",
        "\n",
        "print(\"Sample Mean:\", round(sample_mean,4))\n",
        "print(\"Sample Standard Deviation:\", round(sample_std,4))"
      ],
      "metadata": {
        "colab": {
          "base_uri": "https://localhost:8080/"
        },
        "id": "4W3rXauK0xXP",
        "outputId": "dfd50ee9-fa56-4c99-ed79-a67ecad29304"
      },
      "execution_count": 11,
      "outputs": [
        {
          "output_type": "stream",
          "name": "stdout",
          "text": [
            "Sample Mean: 1.2387\n",
            "Sample Standard Deviation: 0.1932\n"
          ]
        }
      ]
    },
    {
      "cell_type": "code",
      "source": [
        "standard_error = sample_std / np.sqrt(sample_size)\n",
        "print(\"Standard Error:\", round(standard_error,4))"
      ],
      "metadata": {
        "colab": {
          "base_uri": "https://localhost:8080/"
        },
        "id": "kZuyFCf_00lp",
        "outputId": "03bf328d-ee96-4948-d427-e5d51a8b7d2c"
      },
      "execution_count": 12,
      "outputs": [
        {
          "output_type": "stream",
          "name": "stdout",
          "text": [
            "Standard Error: 0.0499\n"
          ]
        }
      ]
    },
    {
      "cell_type": "code",
      "source": [
        "t_value = stats.t.ppf(0.995, df=sample_size - 1)\n",
        "print(\"t-value:\", round(t_value,4))"
      ],
      "metadata": {
        "colab": {
          "base_uri": "https://localhost:8080/"
        },
        "id": "FAD-iEir02bV",
        "outputId": "e6e15cbb-9c65-42c7-c672-627ca379eb58"
      },
      "execution_count": 17,
      "outputs": [
        {
          "output_type": "stream",
          "name": "stdout",
          "text": [
            "t-value: 2.9768\n"
          ]
        }
      ]
    },
    {
      "cell_type": "code",
      "source": [
        "margin_of_error = t_value * standard_error\n",
        "print(\"Margin of Error:\", round(margin_of_error,4))"
      ],
      "metadata": {
        "colab": {
          "base_uri": "https://localhost:8080/"
        },
        "id": "pC4T_xUG04g9",
        "outputId": "d14f7d30-0fc1-4c18-9232-7590a6fe142d"
      },
      "execution_count": 18,
      "outputs": [
        {
          "output_type": "stream",
          "name": "stdout",
          "text": [
            "Margin of Error: 0.1485\n"
          ]
        }
      ]
    },
    {
      "cell_type": "code",
      "source": [
        "confidence_interval = (sample_mean - margin_of_error, sample_mean + margin_of_error)"
      ],
      "metadata": {
        "id": "cGrthwNy07ql"
      },
      "execution_count": 6,
      "outputs": []
    },
    {
      "cell_type": "code",
      "source": [
        "print(\"a) 99% Confidence Interval Using Sample Standard Deviation:\\n\",confidence_interval)"
      ],
      "metadata": {
        "colab": {
          "base_uri": "https://localhost:8080/"
        },
        "id": "3GQKdEnJ06FQ",
        "outputId": "3da6c5be-d6a7-4a5a-8f9d-f8c4b91fdbd9"
      },
      "execution_count": 23,
      "outputs": [
        {
          "output_type": "stream",
          "name": "stdout",
          "text": [
            "a) 99% Confidence Interval Using Sample Standard Deviation:\n",
            " (1.090197338451367, 1.3871359948819662)\n"
          ]
        }
      ]
    },
    {
      "cell_type": "markdown",
      "source": [
        "### **b. Build 99% Confidence Interval Using Known Population Standard Deviation**"
      ],
      "metadata": {
        "id": "GPIM3y-qBRAx"
      }
    },
    {
      "cell_type": "code",
      "source": [
        "import numpy as np\n",
        "from scipy import stats\n",
        "\n",
        "sample = np.array([1.13, 1.55, 1.43, 0.92, 1.25, 1.36, 1.32, 0.85, 1.07, 1.48, 1.20, 1.33, 1.18, 1.22, 1.29])\n",
        "\n",
        "population_std = 0.2\n",
        "z_value = stats.norm.ppf(0.995)\n",
        "MOE = z_value * (population_std / np.sqrt(sample_size))\n",
        "CI_Of_Known_std = stats.norm.interval(0.99, loc=sample_mean, scale=population_std/np.sqrt(sample_size))"
      ],
      "metadata": {
        "id": "q4KlyF26BYTQ"
      },
      "execution_count": 25,
      "outputs": []
    },
    {
      "cell_type": "code",
      "source": [
        "print(\"b) 99% Confidence Interval Using Known Population Standard Deviation:\\n\",CI_Of_Known_std)"
      ],
      "metadata": {
        "colab": {
          "base_uri": "https://localhost:8080/"
        },
        "id": "ploErLdV81Xo",
        "outputId": "51ec49b7-8c94-442a-87b1-92352850b5a0"
      },
      "execution_count": 26,
      "outputs": [
        {
          "output_type": "stream",
          "name": "stdout",
          "text": [
            "b) 99% Confidence Interval Using Known Population Standard Deviation:\n",
            " (1.1056514133957607, 1.3716819199375725)\n"
          ]
        }
      ]
    }
  ]
}