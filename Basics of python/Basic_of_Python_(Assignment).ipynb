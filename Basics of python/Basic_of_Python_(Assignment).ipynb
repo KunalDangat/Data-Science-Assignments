{
  "nbformat": 4,
  "nbformat_minor": 0,
  "metadata": {
    "colab": {
      "provenance": []
    },
    "kernelspec": {
      "name": "python3",
      "display_name": "Python 3"
    },
    "language_info": {
      "name": "python"
    }
  },
  "cells": [
    {
      "cell_type": "markdown",
      "source": [
        "## **Exercise 1: Prime Numbers**"
      ],
      "metadata": {
        "id": "93-y8vFQyKhZ"
      }
    },
    {
      "cell_type": "code",
      "source": [
        "num = int(input(\"Enter a number: \"))\n",
        "\n",
        "if num > 1:\n",
        "    for i in range(2, (num // 2) + 1):\n",
        "        # If num is divisible by any number between\n",
        "        # 2 and n / 2, it is not prime\n",
        "        if num % i == 0:\n",
        "            print(num, \"is not a prime number\")\n",
        "            break\n",
        "    else:\n",
        "        print(num, \"is a prime number\")\n",
        "else:\n",
        "    print(num, \"is not a prime number\")"
      ],
      "metadata": {
        "colab": {
          "base_uri": "https://localhost:8080/"
        },
        "id": "t7g9vCoFY2RN",
        "outputId": "5f5bf219-1d87-48e6-9759-acd6780be1a5"
      },
      "execution_count": 5,
      "outputs": [
        {
          "output_type": "stream",
          "name": "stdout",
          "text": [
            "Enter a number: 23\n",
            "23 is a prime number\n"
          ]
        }
      ]
    },
    {
      "cell_type": "markdown",
      "source": [
        "## **Exercise 2: Product of Random Numbers**"
      ],
      "metadata": {
        "id": "mOeYtxeByPsP"
      }
    },
    {
      "cell_type": "code",
      "source": [
        "import numpy as np\n",
        "\n",
        "a = np.random.randint(0,100)\n",
        "b = np.random.randint(0,100)\n",
        "\n",
        "product = int(input(f\"Enter the product of {a} and {b} :\"))\n",
        "\n",
        "if ((a*b) == product):\n",
        "  print(\"Correct!! Well done.\")\n",
        "else :\n",
        "  print(f\"Incorrect!!! \\nThe right answer for ({a}*{b}) is : {a*b}\")"
      ],
      "metadata": {
        "colab": {
          "base_uri": "https://localhost:8080/"
        },
        "id": "5mtj6c7FyTY9",
        "outputId": "13e4a877-99a2-4fc5-e429-bbbe3df14d0c"
      },
      "execution_count": 15,
      "outputs": [
        {
          "output_type": "stream",
          "name": "stdout",
          "text": [
            "Enter the product of 27 and 9 :9\n",
            "Incorrect!!! \n",
            "The right answer for (27*9) is : 243\n"
          ]
        }
      ]
    },
    {
      "cell_type": "markdown",
      "source": [
        "## **Exercise 3: Squares of Even/Odd Numbers**"
      ],
      "metadata": {
        "id": "eHU5YhAJ1-6l"
      }
    },
    {
      "cell_type": "code",
      "source": [
        "print(\"Squares of all Even Numbers from 0 to 100 :\")\n",
        "for i in range(0,101) :\n",
        "  if (i % 2 == 0) :\n",
        "    print(i**2)"
      ],
      "metadata": {
        "colab": {
          "base_uri": "https://localhost:8080/"
        },
        "collapsed": true,
        "id": "KjUwJ55Uzhya",
        "outputId": "d236c1ae-35a4-4b15-d8ff-daef7f21f68e"
      },
      "execution_count": 26,
      "outputs": [
        {
          "output_type": "stream",
          "name": "stdout",
          "text": [
            "Squares of all Even Numbers from 0 to 100 :\n",
            "0\n",
            "4\n",
            "16\n",
            "36\n",
            "64\n",
            "100\n",
            "144\n",
            "196\n",
            "256\n",
            "324\n",
            "400\n",
            "484\n",
            "576\n",
            "676\n",
            "784\n",
            "900\n",
            "1024\n",
            "1156\n",
            "1296\n",
            "1444\n",
            "1600\n",
            "1764\n",
            "1936\n",
            "2116\n",
            "2304\n",
            "2500\n",
            "2704\n",
            "2916\n",
            "3136\n",
            "3364\n",
            "3600\n",
            "3844\n",
            "4096\n",
            "4356\n",
            "4624\n",
            "4900\n",
            "5184\n",
            "5476\n",
            "5776\n",
            "6084\n",
            "6400\n",
            "6724\n",
            "7056\n",
            "7396\n",
            "7744\n",
            "8100\n",
            "8464\n",
            "8836\n",
            "9216\n",
            "9604\n",
            "10000\n"
          ]
        }
      ]
    },
    {
      "cell_type": "markdown",
      "source": [
        "## **Exercise 4: Word counter**"
      ],
      "metadata": {
        "id": "7_anKb7H4C5W"
      }
    },
    {
      "cell_type": "code",
      "source": [
        "def word_count(str):\n",
        "    count = {}\n",
        "    for i in str.split():\n",
        "      i = i.strip('!.,?/-+=$%').lower()\n",
        "      if i in count:\n",
        "        count[i]+=1\n",
        "      else:\n",
        "        count[i]=1\n",
        "    return count"
      ],
      "metadata": {
        "id": "FTGm-U1z3LKx"
      },
      "execution_count": 49,
      "outputs": []
    },
    {
      "cell_type": "code",
      "source": [
        "input_string = input(\"Enter a sentence :\")\n",
        "count_words = word_count(input_string)\n",
        "print(count_words)"
      ],
      "metadata": {
        "colab": {
          "base_uri": "https://localhost:8080/"
        },
        "collapsed": true,
        "id": "Ixl8y5CA8KCJ",
        "outputId": "6082f791-1390-40a5-ac67-709fc424544d"
      },
      "execution_count": 50,
      "outputs": [
        {
          "output_type": "stream",
          "name": "stdout",
          "text": [
            "Enter a sentence :This is a sample text. This text will be used to demonstrate the word counter.\n",
            "{'this': 2, 'is': 1, 'a': 1, 'sample': 1, 'text': 2, 'will': 1, 'be': 1, 'used': 1, 'to': 1, 'demonstrate': 1, 'the': 1, 'word': 1, 'counter': 1}\n"
          ]
        }
      ]
    },
    {
      "cell_type": "markdown",
      "source": [
        "## **Exercise 5: Check for Palindrome**"
      ],
      "metadata": {
        "id": "k0sfnmsU_sPD"
      }
    },
    {
      "cell_type": "code",
      "source": [
        "def palindrome(input_str):\n",
        "    input_str = input_str.lower().replace(\" \", \"\")\n",
        "    return input_str == input_str[::-1]"
      ],
      "metadata": {
        "id": "rXj9XOrP_vID"
      },
      "execution_count": 51,
      "outputs": []
    },
    {
      "cell_type": "code",
      "source": [
        "input_string = input(\"Enter a string: \")\n",
        "if palindrome(input_string):\n",
        "    print(\"Yes, it's a palindrome!\")\n",
        "else:\n",
        "    print(\"No, it's not a palindrome.\")"
      ],
      "metadata": {
        "colab": {
          "base_uri": "https://localhost:8080/"
        },
        "id": "jKMb4QsKAv3l",
        "outputId": "9ba97f68-6612-480d-de72-e3d03bd3863c"
      },
      "execution_count": 52,
      "outputs": [
        {
          "output_type": "stream",
          "name": "stdout",
          "text": [
            "Enter a string: A Santa at NASA\n",
            "Yes, it's a palindrome!\n"
          ]
        }
      ]
    }
  ]
}